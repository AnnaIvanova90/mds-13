{
 "cells": [
  {
   "cell_type": "code",
   "execution_count": 1,
   "metadata": {},
   "outputs": [],
   "source": [
    "import matplotlib.pyplot as plt\n",
    "import numpy as np\n",
    "from sympy import diff, symbols, cos, sin, tan\n",
    "from scipy.misc import derivative\n",
    "from scipy.optimize import minimize, differential_evolution\n",
    "from sklearn.metrics.pairwise import pairwise_distances\n",
    "from sklearn import decomposition\n",
    "%matplotlib inline"
   ]
  },
  {
   "cell_type": "markdown",
   "metadata": {},
   "source": [
    "Задание 1\n",
    "Дана матрица рейтингов фильмов (строки - пользователи (10 человек), столбцы - фильмы (15 фильмов))\n",
    "a) Необходимо найти наиболее похожего пользователя по косинусной метрике для каждого из (ответ: 10 пар вида (x, y), где y - наиболее похожий пользователь на пользователя x).\n",
    "\n",
    "b) Предположим, вы захотели сжать признаковые описания пользователя с 15 фильмов, до, скажем, 5-ти признаков, как вы это сделаете?"
   ]
  },
  {
   "cell_type": "code",
   "execution_count": 68,
   "metadata": {},
   "outputs": [
    {
     "data": {
      "text/plain": [
       "array([[ 0.        , 15.49193338, 13.78404875, 15.96871942, 15.23154621,\n",
       "        18.        , 18.46618531, 15.06651917, 11.5758369 , 16.        ],\n",
       "       [15.49193338,  0.        , 15.87450787, 14.31782106, 13.26649916,\n",
       "        15.23154621, 15.26433752, 16.09347694, 16.24807681, 17.94435844],\n",
       "       [13.78404875, 15.87450787,  0.        , 13.07669683, 16.30950643,\n",
       "        15.8113883 , 19.67231557, 16.21727474, 16.0623784 , 13.03840481],\n",
       "       [15.96871942, 14.31782106, 13.07669683,  0.        , 18.62793601,\n",
       "        15.26433752, 13.56465997, 12.80624847, 17.63519209, 16.82260384],\n",
       "       [15.23154621, 13.26649916, 16.30950643, 18.62793601,  0.        ,\n",
       "        16.55294536, 16.34013464, 14.73091986, 13.34166406, 16.73320053],\n",
       "       [18.        , 15.23154621, 15.8113883 , 15.26433752, 16.55294536,\n",
       "         0.        , 17.57839583, 13.15294644, 16.673332  , 16.37070554],\n",
       "       [18.46618531, 15.26433752, 19.67231557, 13.56465997, 16.34013464,\n",
       "        17.57839583,  0.        , 13.85640646, 16.46207763, 19.10497317],\n",
       "       [15.06651917, 16.09347694, 16.21727474, 12.80624847, 14.73091986,\n",
       "        13.15294644, 13.85640646,  0.        , 16.88194302, 17.57839583],\n",
       "       [11.5758369 , 16.24807681, 16.0623784 , 17.63519209, 13.34166406,\n",
       "        16.673332  , 16.46207763, 16.88194302,  0.        , 13.56465997],\n",
       "       [16.        , 17.94435844, 13.03840481, 16.82260384, 16.73320053,\n",
       "        16.37070554, 19.10497317, 17.57839583, 13.56465997,  0.        ]])"
      ]
     },
     "execution_count": 68,
     "metadata": {},
     "output_type": "execute_result"
    }
   ],
   "source": [
    "raitings = np.array([[ 4,  4,  9,  4,  1,  6, 10,  7,  9,  6,  9,  2,  8,  6,  6],\n",
    "                     [ 9,  2,  5, 10,  7,  8, 10,  5,  6,  2,  1,  6,  8,  9,  7],\n",
    "                     [ 1,  6,  8,  8,  4,  9,  3,  8, 10,  5,  2,  6,  8,  1,  6],\n",
    "                     [ 6,  1,  9,  7,  7,  9,  2,  3,  5,  1,  6,  6,  3,  2,  7],\n",
    "                     [ 3,  7,  3,  5,  7,  9,  9,  6,  2,  9,  1,  2,  8, 10,  6],\n",
    "                     [ 8,  3,  7,  3,  8,  6,  1,  8,  8,  6,  1,  9,  4, 10,  1],\n",
    "                     [ 9,  8,  4,  8,  8, 10,  6,  1,  1,  2,  9,  5,  2,  7,  2],\n",
    "                     [ 4,  1,  6,  4,  3, 10,  4,  4,  2,  8,  7,  9,  3,  8,  3],\n",
    "                     [ 2,  7,  7,  6, 10,  6,  8,  9,  8,  6, 10,  1,  7, 10,  4],\n",
    "                     [ 5, 10,  8,  8,  9,  7,  2,  9,  9, 10,  8,  8,  8,  6, 10]])\n",
    "\n",
    "D = pairwise_distances(raitings)\n",
    "D"
   ]
  },
  {
   "cell_type": "code",
   "execution_count": 71,
   "metadata": {},
   "outputs": [
    {
     "name": "stdout",
     "output_type": "stream",
     "text": [
      "1 -- 9\n",
      "2 -- 5\n",
      "3 -- 10\n",
      "4 -- 8\n",
      "5 -- 2\n",
      "6 -- 8\n",
      "7 -- 4\n",
      "8 -- 4\n",
      "9 -- 1\n",
      "10 -- 3\n"
     ]
    }
   ],
   "source": [
    "D = pairwise_distances(raitings)\n",
    "i = 1\n",
    "for line in D:\n",
    "    a = min(np.where(line>0, line, np.inf))\n",
    "    result = np.where(line == a)\n",
    "    \n",
    "    print(f\"{i} -- {result[0][0]+1}\")   \n",
    "    i+=1"
   ]
  },
  {
   "cell_type": "code",
   "execution_count": 50,
   "metadata": {},
   "outputs": [
    {
     "data": {
      "text/plain": [
       "array([[-5.30986101,  1.92919845, -4.93300027,  2.70188013,  5.50497886],\n",
       "       [ 2.87763403,  2.71659559,  1.40592782,  7.26325751, -4.50322291],\n",
       "       [-4.94010408, -6.68861167, -0.94550184,  3.61556661, -0.68969272],\n",
       "       [ 5.14939908, -6.28027284, -4.65978558,  1.09024004, -1.01471112],\n",
       "       [-1.37488691,  7.54357985,  4.00834369,  2.1284001 , -0.16324949],\n",
       "       [ 2.65341956, -3.77075601,  8.58430748, -1.46628319,  1.67401769],\n",
       "       [ 8.61573944,  3.78603335, -4.02721027, -4.37582577, -3.13880277],\n",
       "       [ 5.39658258, -1.0170466 ,  1.01456742, -1.89512837,  6.54883538],\n",
       "       [-5.7843488 ,  5.29857107, -1.48083611, -3.71295542,  0.21312695],\n",
       "       [-7.2835739 , -3.51729118,  1.03318766, -5.34915166, -4.43127987]])"
      ]
     },
     "execution_count": 50,
     "metadata": {},
     "output_type": "execute_result"
    }
   ],
   "source": [
    "pca = decomposition.PCA(n_components = 5)\n",
    "raitings1= pca.fit_transform(raitings)\n",
    "raitings1"
   ]
  },
  {
   "cell_type": "markdown",
   "metadata": {},
   "source": [
    "Задание 2¶\n",
    "Вычислите производную $tg^2(sin(x) + cos(2x+3))$ в точке $x_0=1$ (на python и на бумаге)."
   ]
  },
  {
   "cell_type": "code",
   "execution_count": 3,
   "metadata": {},
   "outputs": [
    {
     "name": "stdout",
     "output_type": "stream",
     "text": [
      "57.0653126946030\n"
     ]
    },
    {
     "data": {
      "text/latex": [
       "$\\displaystyle 2 \\left(- 2 \\sin{\\left(2 x + 3 \\right)} + \\cos{\\left(x \\right)}\\right) \\left(\\tan^{2}{\\left(\\sin{\\left(x \\right)} + \\cos{\\left(2 x + 3 \\right)} \\right)} + 1\\right) \\tan{\\left(\\sin{\\left(x \\right)} + \\cos{\\left(2 x + 3 \\right)} \\right)}$"
      ],
      "text/plain": [
       "2*(-2*sin(2*x + 3) + cos(x))*(tan(sin(x) + cos(2*x + 3))**2 + 1)*tan(sin(x) + cos(2*x + 3))"
      ]
     },
     "execution_count": 3,
     "metadata": {},
     "output_type": "execute_result"
    }
   ],
   "source": [
    "x = symbols('x')\n",
    "def f(x):\n",
    "    return ((tan(sin(x) +  cos(2 * x + 3))**2))\n",
    "\n",
    "a = tan(sin(x) +  cos(2 * x + 3))**2\n",
    "print(derivative(f, 1, n = 1))\n",
    "diff(a)"
   ]
  },
  {
   "cell_type": "markdown",
   "metadata": {},
   "source": [
    "Задание 3\n",
    "Дана функция с неизвестными параметрами a и b, вам также известны значения функции fx в точках x. Найдите оптимальные параметры a, b, минимизирующие абсолютную ошибку error."
   ]
  },
  {
   "cell_type": "code",
   "execution_count": 26,
   "metadata": {},
   "outputs": [
    {
     "data": {
      "image/png": "[encoded data removed]",
      "text/plain": [
       "<Figure size 432x288 with 1 Axes>"
      ]
     },
     "metadata": {
      "needs_background": "light"
     },
     "output_type": "display_data"
    }
   ],
   "source": [
    "def f(x, a, b):\n",
    "    return np.e**a * np.sin(b*x) + x\n",
    "\n",
    "x = np.array([0.        , 0.26315789, 0.52631579, 0.78947368, 1.05263158,\n",
    "              1.31578947, 1.57894737, 1.84210526, 2.10526316, 2.36842105,\n",
    "              2.63157895, 2.89473684, 3.15789474, 3.42105263, 3.68421053,\n",
    "              3.94736842, 4.21052632, 4.47368421, 4.73684211, 5.        ])\n",
    "\n",
    "\n",
    "fx = np.array([  0.        , -12.01819092, -18.90968634, -17.68786571,\n",
    "                -8.7529108 ,   4.27524517,  16.06801336,  21.81250213,\n",
    "                19.22059845,   9.48411207,  -3.22273056, -13.48576488,\n",
    "               -16.91096359, -11.95866834,  -0.58630088,  12.56873816,\n",
    "                22.12489421,  24.20292139,  18.04522521,   6.33211092])\n",
    "plt.plot(x, fx)\n",
    "plt.show()"
   ]
  },
  {
   "cell_type": "code",
   "execution_count": 27,
   "metadata": {},
   "outputs": [],
   "source": [
    "def error(params):\n",
    "    return np.sum(np.abs(fx - f(x, params[0], params[1])))"
   ]
  },
  {
   "cell_type": "code",
   "execution_count": 40,
   "metadata": {},
   "outputs": [
    {
     "data": {
      "text/plain": [
       "     fun: 0.07674566111565184\n",
       "   maxcv: 0.0\n",
       " message: 'Optimization terminated successfully.'\n",
       "    nfev: 135\n",
       "  status: 1\n",
       " success: True\n",
       "       x: array([ 3.00018796, -2.50008926])"
      ]
     },
     "execution_count": 40,
     "metadata": {},
     "output_type": "execute_result"
    }
   ],
   "source": [
    "param = [0,0]\n",
    "res = minimize(error, param , method = 'COBYLA')\n",
    "res"
   ]
  },
  {
   "cell_type": "markdown",
   "metadata": {},
   "source": [
    "\n",
    "Задание 4\n",
    "Создайте собственную дискретную случайную величину с 20 значениями. Сгенерируйте 1000 выборок размера 50. Посчитайте среднее для каждой выборки. Постройте гистограмму распределения средних."
   ]
  },
  {
   "cell_type": "code",
   "execution_count": 15,
   "metadata": {},
   "outputs": [
    {
     "name": "stdout",
     "output_type": "stream",
     "text": [
      "\n"
     ]
    },
    {
     "data": {
      "text/plain": [
       "(array([3.27171602e-04, 2.08571896e-03, 4.62129887e-03, 7.07508588e-03,\n",
       "        1.04694912e-02, 7.89301489e-03, 5.84819238e-03, 1.88123671e-03,\n",
       "        6.54343203e-04, 4.08964502e-05]),\n",
       " array([283.12 , 307.572, 332.024, 356.476, 380.928, 405.38 , 429.832,\n",
       "        454.284, 478.736, 503.188, 527.64 ]),\n",
       " <a list of 10 Patch objects>)"
      ]
     },
     "execution_count": 15,
     "metadata": {},
     "output_type": "execute_result"
    },
    {
     "data": {
      "image/png": "[encoded data removed]",
      "text/plain": [
       "<Figure size 432x288 with 1 Axes>"
      ]
     },
     "metadata": {
      "needs_background": "light"
     },
     "output_type": "display_data"
    }
   ],
   "source": [
    "#Создаем собственную дискретную случайную величину\n",
    "\n",
    "N = np.random.randint(0, 1000, size = 20)\n",
    "print()\n",
    "# Массив для сохранения средних по выборкам\n",
    "means = np.array([])\n",
    "samples_count = 1000\n",
    "\n",
    "for number in range(samples_count):\n",
    "    # На каждом цикле генерируем выборки разных размеров\n",
    "    sample1 = np.random.choice(N, 50) \n",
    "    # Считаем среднее по каждой выборке и добавляем в массив средних\n",
    "    means = np.append(means, sample1.mean())\n",
    "\n",
    "\n",
    "\n",
    "plt.hist(means, density=True)\n"
   ]
  },
  {
   "cell_type": "markdown",
   "metadata": {},
   "source": [
    "Задание 5\n",
    "Найдите собственные значения и собственные вектора матрицы (на python и на бумаге):"
   ]
  },
  {
   "cell_type": "code",
   "execution_count": 4,
   "metadata": {},
   "outputs": [
    {
     "name": "stdout",
     "output_type": "stream",
     "text": [
      "собственные вектора матрицы [[ 0.89442719 -0.89442719]\n",
      " [ 0.4472136   0.4472136 ]]\n",
      "собственные значения матрицы [ 3. -1.]\n"
     ]
    }
   ],
   "source": [
    "m = np.array([[1, 4],\n",
    "              [1, 1]])\n",
    "v, w = np.linalg.eig(m)\n",
    "print(f\"собственные вектора матрицы {w}\")\n",
    "print(f\"собственные значения матрицы {v}\")"
   ]
  },
  {
   "cell_type": "code",
   "execution_count": null,
   "metadata": {},
   "outputs": [],
   "source": []
  }
 ],
 "metadata": {
  "kernelspec": {
   "display_name": "Python 3",
   "language": "python",
   "name": "python3"
  },
  "language_info": {
   "codemirror_mode": {
    "name": "ipython",
    "version": 3
   },
   "file_extension": ".py",
   "mimetype": "text/x-python",
   "name": "python",
   "nbconvert_exporter": "python",
   "pygments_lexer": "ipython3",
   "version": "3.8.3"
  }
 },
 "nbformat": 4,
 "nbformat_minor": 4
}
