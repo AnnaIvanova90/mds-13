{
 "cells": [
  {
   "cell_type": "code",
   "execution_count": 2,
   "metadata": {},
   "outputs": [],
   "source": [
    "import numpy as np"
   ]
  },
  {
   "cell_type": "code",
   "execution_count": 79,
   "metadata": {},
   "outputs": [
    {
     "data": {
      "text/plain": [
       "array([[1, 0, 0],\n",
       "       [0, 1, 0],\n",
       "       [0, 0, 1]])"
      ]
     },
     "execution_count": 79,
     "metadata": {},
     "output_type": "execute_result"
    }
   ],
   "source": [
    "#a) Диагональная, ортогональная\n",
    "A = np.array([[-1, 0, 0], [0, -1, 0], [0, 0, -1]])\n",
    "\n",
    "AT = A.transpose()\n",
    "A.dot(AT)"
   ]
  },
  {
   "cell_type": "code",
   "execution_count": 18,
   "metadata": {},
   "outputs": [
    {
     "data": {
      "text/plain": [
       "array([[1, 0, 0],\n",
       "       [0, 1, 0],\n",
       "       [0, 0, 1]])"
      ]
     },
     "execution_count": 18,
     "metadata": {},
     "output_type": "execute_result"
    }
   ],
   "source": [
    "#b) Верхнетреугольная, ортогональная\n",
    "B = np.array([[1, 0, 0], [0, 1, 0], [0, 0, 1]])\n",
    "\n",
    "BT = B.transpose()\n",
    "B.dot(BT)"
   ]
  },
  {
   "cell_type": "code",
   "execution_count": 19,
   "metadata": {},
   "outputs": [
    {
     "data": {
      "text/plain": [
       "array([[1, 0, 0],\n",
       "       [0, 1, 0],\n",
       "       [0, 0, 1]])"
      ]
     },
     "execution_count": 19,
     "metadata": {},
     "output_type": "execute_result"
    }
   ],
   "source": [
    "#c) Нижнетреугольная, ортогональная\n",
    "B = np.array([[1, 0, 0], [0, 1, 0], [0, 0, 1]])\n",
    "\n",
    "BT = B.transpose()\n",
    "B.dot(BT)"
   ]
  },
  {
   "cell_type": "code",
   "execution_count": 20,
   "metadata": {},
   "outputs": [
    {
     "data": {
      "text/plain": [
       "1.0"
      ]
     },
     "execution_count": 20,
     "metadata": {},
     "output_type": "execute_result"
    }
   ],
   "source": [
    "#d) Матрица, у которой определитель = 1, и все элементы не равны 0\n",
    "C = np.array([[1, 1, 1], [-1, 1, -1], [1, 2, 1.5]])\n",
    "\n",
    "np.linalg.det(C)"
   ]
  },
  {
   "cell_type": "code",
   "execution_count": 22,
   "metadata": {},
   "outputs": [
    {
     "name": "stdout",
     "output_type": "stream",
     "text": [
      "собственные вектора матрицы [[-0.89442719 -0.70710678]\n",
      " [ 0.4472136  -0.70710678]]\n",
      "собственные значения матрицы [1. 4.]\n"
     ]
    }
   ],
   "source": [
    "#Найдите собственные значения и собственные вектора матрицы\n",
    "m = np.array([[2, 2],\n",
    "              [1, 3]])\n",
    "v, w = np.linalg.eig(m)\n",
    "print(f\"собственные вектора матрицы {w}\")\n",
    "print(f\"собственные значения матрицы {v}\")"
   ]
  },
  {
   "cell_type": "code",
   "execution_count": 9,
   "metadata": {},
   "outputs": [
    {
     "name": "stdout",
     "output_type": "stream",
     "text": [
      "[[1 2]\n",
      " [2 3]]\n"
     ]
    }
   ],
   "source": [
    "#Найдите спектральное разложение матрицы:\n",
    "m = np.array([[1, 2],\n",
    "              [2,3]])\n",
    "print(m)"
   ]
  },
  {
   "cell_type": "code",
   "execution_count": 10,
   "metadata": {},
   "outputs": [],
   "source": [
    "#определим собственные значения и вектора матрицы\n",
    "v1, w1 = np.linalg.eig(m)"
   ]
  },
  {
   "cell_type": "code",
   "execution_count": 15,
   "metadata": {},
   "outputs": [
    {
     "data": {
      "text/plain": [
       "array([[-0.23606798,  0.        ],\n",
       "       [ 0.        ,  4.23606798]])"
      ]
     },
     "execution_count": 15,
     "metadata": {},
     "output_type": "execute_result"
    }
   ],
   "source": [
    "#диагональная матрица из собственных значений\n",
    "D = np.diag(v1)\n",
    "D"
   ]
  },
  {
   "cell_type": "code",
   "execution_count": 27,
   "metadata": {},
   "outputs": [
    {
     "data": {
      "text/plain": [
       "array([[-0.85065081,  0.52573111],\n",
       "       [-0.52573111, -0.85065081]])"
      ]
     },
     "execution_count": 27,
     "metadata": {},
     "output_type": "execute_result"
    }
   ],
   "source": [
    "#ортогональная матрица\n",
    "S = w1.T\n",
    "S"
   ]
  },
  {
   "cell_type": "code",
   "execution_count": 26,
   "metadata": {},
   "outputs": [
    {
     "data": {
      "text/plain": [
       "array([[1., 2.],\n",
       "       [2., 3.]])"
      ]
     },
     "execution_count": 26,
     "metadata": {},
     "output_type": "execute_result"
    }
   ],
   "source": [
    "#проверим разложение\n",
    "np.dot(np.dot(S.T, D), S)"
   ]
  },
  {
   "cell_type": "code",
   "execution_count": 57,
   "metadata": {},
   "outputs": [
    {
     "data": {
      "text/plain": [
       "array([[ 0.,  0.,  5., ...,  0.,  0.,  0.],\n",
       "       [ 0.,  0.,  0., ..., 10.,  0.,  0.],\n",
       "       [ 0.,  0.,  0., ..., 16.,  9.,  0.],\n",
       "       ...,\n",
       "       [ 0.,  0.,  1., ...,  6.,  0.,  0.],\n",
       "       [ 0.,  0.,  2., ..., 12.,  0.,  0.],\n",
       "       [ 0.,  0., 10., ..., 12.,  1.,  0.]])"
      ]
     },
     "execution_count": 57,
     "metadata": {},
     "output_type": "execute_result"
    }
   ],
   "source": [
    "from sklearn.datasets import load_digits\n",
    "from sklearn import decomposition\n",
    "from sklearn.metrics import mean_squared_error\n",
    "\n",
    "digits = load_digits()\n",
    "X = digits.data\n",
    "X"
   ]
  },
  {
   "cell_type": "code",
   "execution_count": 66,
   "metadata": {},
   "outputs": [
    {
     "name": "stdout",
     "output_type": "stream",
     "text": [
      "[15.977678462238197, 13.421012200768121, 11.206800697129744, 9.627986407134271, 8.542447615557938, 7.619390878881143, 6.809151845710987, 6.121796906696552, 5.4922968786802295, 4.914330876335372, 4.4689647383527795, 4.042300679608351, 3.700346057449395, 3.3675761191474307, 3.0919408054321247, 2.8272355800268043, 2.5796821580154994, 2.3454581094903553, 2.1543795489158115, 1.9843910489690406, 1.8177896594139662, 1.667665950469397, 1.5236115497621259, 1.3878917745195032, 1.257258432517284, 1.1457122442176342, 1.0373220101427212, 0.9406004354992046, 0.8486461817506112, 0.7681525436632799, 0.698712581771073, 0.6317024091386708, 0.5684437255696566, 0.5068569474977112, 0.4489747464575443, 0.3938209776231281, 0.34564735890965426, 0.30289363374637757, 0.26116339651927095, 0.22147132308031692, 0.18581949479366494, 0.1560354176187333, 0.12765800399303767, 0.10126700469810138, 0.07937337936466567, 0.059193695218972046, 0.041095425543330996, 0.026553209917773206, 0.016092618775246086, 0.008502076113108128, 0.004561294804538935, 0.003012894530133874, 0.0020270249434842145, 0.0010785255910710726, 0.000459085651282941, 0.00022561309146386754, 9.329500575010286e-05, 3.670683290814936e-05, 1.6764012976701383e-05, 6.437404844872226e-06, 3.29411757628066e-28, 3.2942960498717183e-28, 3.2944745234627767e-28]\n"
     ]
    }
   ],
   "source": [
    "res = []\n",
    "for i in range(1,64):\n",
    "    pca = decomposition.PCA(n_components = i)\n",
    "    X_red= pca.fit_transform(X)\n",
    "    X_new = pca.inverse_transform(X_red) \n",
    "    a = mean_squared_error(X, X_new)\n",
    "    res.append(a)\n",
    "print(res)\n",
    "   "
   ]
  },
  {
   "cell_type": "code",
   "execution_count": 70,
   "metadata": {},
   "outputs": [
    {
     "data": {
      "text/plain": [
       "Text(0, 0.5, 'среднеквадратичная ошибка')"
      ]
     },
     "execution_count": 70,
     "metadata": {},
     "output_type": "execute_result"
    },
    {
     "data": {
      "image/png": "[encoded data removed]",
      "text/plain": [
       "<Figure size 432x288 with 1 Axes>"
      ]
     },
     "metadata": {
      "needs_background": "light"
     },
     "output_type": "display_data"
    }
   ],
   "source": [
    "import matplotlib.pyplot as plt\n",
    "plt.plot(res)\n",
    "plt.xlabel('n_components')\n",
    "plt.ylabel('среднеквадратичная ошибка')"
   ]
  },
  {
   "cell_type": "code",
   "execution_count": null,
   "metadata": {},
   "outputs": [],
   "source": []
  }
 ],
 "metadata": {
  "kernelspec": {
   "display_name": "Python 3",
   "language": "python",
   "name": "python3"
  },
  "language_info": {
   "codemirror_mode": {
    "name": "ipython",
    "version": 3
   },
   "file_extension": ".py",
   "mimetype": "text/x-python",
   "name": "python",
   "nbconvert_exporter": "python",
   "pygments_lexer": "ipython3",
   "version": "3.8.3"
  }
 },
 "nbformat": 4,
 "nbformat_minor": 4
}
