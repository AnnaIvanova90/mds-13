{
 "cells": [
  {
   "cell_type": "markdown",
   "metadata": {},
   "source": [
    "Задание 1:\n",
    "Монетку подбрасывают 15 раз, найдите вероятность выпадения простого числа орлов."
   ]
  },
  {
   "cell_type": "code",
   "execution_count": 17,
   "metadata": {},
   "outputs": [],
   "source": [
    "import math\n",
    "import numpy as np\n",
    "import matplotlib.pyplot as plt"
   ]
  },
  {
   "cell_type": "code",
   "execution_count": 15,
   "metadata": {},
   "outputs": [
    {
     "name": "stdout",
     "output_type": "stream",
     "text": [
      "вероятность выпадения простого числа орлов - 0.3499755859375\n"
     ]
    }
   ],
   "source": [
    "n = 15\n",
    "K = [2, 3, 5, 7, 11, 13]\n",
    "p = 0.5\n",
    "\n",
    "C = []\n",
    "for k in K:\n",
    "    c = math.factorial(n) / math.factorial(k) / math.factorial(n-k)\n",
    "    C.append(c)\n",
    "\n",
    "P = p ** n * sum(C)\n",
    "print(f\"вероятность выпадения простого числа орлов - {P}\")"
   ]
  },
  {
   "cell_type": "markdown",
   "metadata": {},
   "source": [
    "Задание 2: Создайте свою дискретную случайную величину с не менее, чем 10 значениями. Просемплируйте 1000 случайных значений, постройте гистограмму плотности распределения по выборке, посчитайте среднее, дисперсию и медиану."
   ]
  },
  {
   "cell_type": "code",
   "execution_count": 71,
   "metadata": {},
   "outputs": [
    {
     "name": "stdout",
     "output_type": "stream",
     "text": [
      "среднее значение = -0.5878787878787879\n",
      "медиана = -1.0\n",
      "дисперсия = 32.011974288337925\n"
     ]
    },
    {
     "data": {
      "text/plain": [
       "(array([ 83., 103., 110.,  95.,  94.,  91., 124., 101., 101.,  94., 117.,\n",
       "        103., 103.,  97.,  99.,  93.,  90.,  90., 107.,  85.]),\n",
       " array([-10.  ,  -9.05,  -8.1 ,  -7.15,  -6.2 ,  -5.25,  -4.3 ,  -3.35,\n",
       "         -2.4 ,  -1.45,  -0.5 ,   0.45,   1.4 ,   2.35,   3.3 ,   4.25,\n",
       "          5.2 ,   6.15,   7.1 ,   8.05,   9.  ]),\n",
       " <a list of 20 Patch objects>)"
      ]
     },
     "execution_count": 71,
     "metadata": {},
     "output_type": "execute_result"
    },
    {
     "data": {
      "image/png": "[encoded data removed]",
      "text/plain": [
       "<Figure size 432x288 with 1 Axes>"
      ]
     },
     "metadata": {
      "needs_background": "light"
     },
     "output_type": "display_data"
    }
   ],
   "source": [
    "L = []\n",
    "for i in range (1, 100):\n",
    "    lst = np.random.randint(-10, 10, 20)\n",
    "    L.extend(lst)\n",
    "    \n",
    "print(f\"среднее значение = {np.mean(L)}\")\n",
    "print(f\"медиана = {np.median(L)}\")\n",
    "print(f\"дисперсия = {np.var(L)}\")\n",
    "\n",
    "#plt.hist(L, bins = 20)\n",
    "plt.hist(L, alpha=0.6, bins = 20)"
   ]
  },
  {
   "cell_type": "markdown",
   "metadata": {},
   "source": [
    "Задание 3:\n",
    "Пусть брошены 3 уравновешенные монеты.\n",
    "\n",
    "Рассмотрим 3 события:\n",
    "\n",
    "A1 - монеты 1 и 2 упали одной и той же стороной;\n",
    "\n",
    "A2 - монеты 2 и 3 упали одной и той же стороной;\n",
    "\n",
    "A3 - монеты 1 и 3 упали одной и той же стороной.\n",
    "\n",
    "Покажите, почему эти 3 события (A1, A2, A3) являются попарно независимыми, но не являются независимыми в совокупности.\n",
    "\n"
   ]
  },
  {
   "cell_type": "code",
   "execution_count": null,
   "metadata": {},
   "outputs": [],
   "source": [
    "Вероятность событий A1, A2 и А3 равно вероятности выпадения \"нужной\" стороны на одной из монет и равна 1/2.  P(Ai) = 0.5\n",
    "\n",
    "Тогда вероятность попарного наступления событий равна 1/4 (последовательное выпадение \"нужной\" стороны на 2 и 3 монетках).\n",
    "При этом P(AiAj) = P(Ai)*P(Aj), то есть события независимы.\n",
    "\n",
    "При одновременном наступлении трех событий вероятность так же будет равно 1/4 (три монетки, из которых 2 должны выпасть \"нужными\" сторонами),\n",
    "но  P(A1A2А3) не равно P(A1)*P(A2)*P(A3) (1/8), значит события не являются независимыми"
   ]
  },
  {
   "cell_type": "markdown",
   "metadata": {},
   "source": [
    "Задание 4 (формула полной вероятности):\n",
    "В магазин привезли устройства с 3-х разных предприятий.\n",
    "\n",
    "Соотношение устройств следующее: 20% - продукция первого предприятия, 30% - продукция второго предприятия, 50% - продукция третьего предприятия; далее, 10% продукции первого предприятия высшего сорта, на втором предприятии - 5% и на третьем - 20% продукции высшего сорта.\n",
    "\n",
    "Найти вероятность того, что случайно купленная новая продукция окажется высшего сорта."
   ]
  },
  {
   "cell_type": "code",
   "execution_count": 85,
   "metadata": {},
   "outputs": [
    {
     "name": "stdout",
     "output_type": "stream",
     "text": [
      "вероятность случайной покупки продукции высшего сорта = 0.135\n"
     ]
    }
   ],
   "source": [
    "#Пусть событие А - покупка продукции высшего сорта. Тогда событие В - купленна продукция с данного предприятия.\n",
    "#Тогда АВ - вероятность производства продукции высшего качества на каждом предприятии\n",
    "B1 = 0.2\n",
    "АB1 = 0.1\n",
    "B2 = 0.3\n",
    "АB2 = 0.05\n",
    "B3 = 0.5\n",
    "АB3 = 0.2\n",
    "\n",
    "А = B1 * АB1 +  B2 * АB2 + B3 * АB3\n",
    "\n",
    "print(f\"вероятность случайной покупки продукции высшего сорта = {А}\")"
   ]
  },
  {
   "cell_type": "code",
   "execution_count": null,
   "metadata": {},
   "outputs": [],
   "source": []
  }
 ],
 "metadata": {
  "kernelspec": {
   "display_name": "Python 3",
   "language": "python",
   "name": "python3"
  },
  "language_info": {
   "codemirror_mode": {
    "name": "ipython",
    "version": 3
   },
   "file_extension": ".py",
   "mimetype": "text/x-python",
   "name": "python",
   "nbconvert_exporter": "python",
   "pygments_lexer": "ipython3",
   "version": "3.8.3"
  }
 },
 "nbformat": 4,
 "nbformat_minor": 4
}
